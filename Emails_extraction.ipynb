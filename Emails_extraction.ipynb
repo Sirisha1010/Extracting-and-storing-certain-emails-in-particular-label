{
  "nbformat": 4,
  "nbformat_minor": 0,
  "metadata": {
    "colab": {
      "name": "Assignment_internship.ipynb",
      "provenance": [],
      "collapsed_sections": []
    },
    "kernelspec": {
      "name": "python3",
      "display_name": "Python 3"
    }
  },
  "cells": [
    {
      "cell_type": "code",
      "metadata": {
        "id": "j6LLQSaHB2_f"
      },
      "source": [
        "#Connecting to gmail server\n",
        "ORG_EMAIL   = \"@gmail.com\"\n",
        "FROM_EMAIL  = \"sirisha0159\" + ORG_EMAIL\n",
        "FROM_PWD    = \"<app_password_that_I_had_created>\"\n",
        "SMTP_SERVER = \"imap.gmail.com\"\n",
        "SMTP_PORT   = 993"
      ],
      "execution_count": null,
      "outputs": []
    },
    {
      "cell_type": "markdown",
      "metadata": {
        "id": "ylT4LQDJVDku"
      },
      "source": [
        "**This** **is** **the** **basic** **code** **that** **am** **trying** **to** **execute**\n",
        "\n",
        "\n",
        "\n"
      ]
    },
    {
      "cell_type": "code",
      "metadata": {
        "id": "6yC2Gf-XzJyF"
      },
      "source": [
        "#Importing necessary libraries\n",
        "import smtplib\n",
        "import time\n",
        "import imaplib\n",
        "import email\n",
        "\n",
        "# -------------------------------------------------\n",
        "#\n",
        "# Utility to read email from Gmail Using Python\n",
        "#\n",
        "# ------------------------------------------------\n",
        "\n",
        "def read_email_from_gmail():\n",
        "    try:\n",
        "        mail = imaplib.IMAP4_SSL(SMTP_SERVER)\n",
        "        mail.login(FROM_EMAIL,FROM_PWD)\n",
        "        mail.select('Inbox') #Selecting 'Inbox' as the folder in gmail to fetch the emails\n",
        "\n",
        "        type, data = mail.search(None, '(SUBJECT \"Thank you for applying\")') #Searching for emails with subject \"Thank you for applying\"\n",
        "        mail_ids = data[0] #Storing all ids' of the emails\n",
        "\n",
        "        id_list = mail_ids.split()   #Splitting the ids' \n",
        "       \n",
        "\n",
        "        for i in id_list:\n",
        "            typ, data = mail.fetch(str(i), '(RFC822)' ) \n",
        "\n",
        "            for response_part in data:\n",
        "                if isinstance(response_part, tuple):\n",
        "                    msg = email.message_from_bytes(response_part[1])\n",
        "                    email_subject = msg['subject']  #Fetching the subjects of all the emails in gmail\n",
        "                    result = imap.uid('COPY', msg, 'Job') #Already created a label in gmail named \"Job\", now copying all the emails to \"Job\"\n",
        "                    mov, data = imap.uid('STORE', msg, '+FLAGS', '(\\Deleted)') # Deleting the emails moved to \"Job\" from other folders\n",
        "                    mail.expunge()\n",
        "\n",
        "\n",
        "\n",
        "\n",
        "    except Exception as e:\n",
        "        print(str(e))\n"
      ],
      "execution_count": null,
      "outputs": []
    },
    {
      "cell_type": "code",
      "metadata": {
        "id": "eu-Msf4VBA2R"
      },
      "source": [
        "read_email_from_gmail()  "
      ],
      "execution_count": null,
      "outputs": []
    },
    {
      "cell_type": "code",
      "metadata": {
        "id": "-uygGtqFBylh"
      },
      "source": [
        ""
      ],
      "execution_count": null,
      "outputs": []
    }
  ]
}
